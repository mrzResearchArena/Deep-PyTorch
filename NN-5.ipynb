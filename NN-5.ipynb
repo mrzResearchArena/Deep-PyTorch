{
 "cells": [
  {
   "cell_type": "code",
   "execution_count": 35,
   "metadata": {},
   "outputs": [],
   "source": [
    "import torch\n",
    "from torchvision import datasets, transforms\n",
    "\n",
    "# Define a transform to normalize the data\n",
    "transform = transforms.Compose([transforms.ToTensor(),\n",
    "                                transforms.Normalize((0.5,), (0.5,))])\n",
    "# Download and load the training data\n",
    "trainset = datasets.FashionMNIST('~/.pytorch/F_MNIST_data/', download=True, train=True, transform=transform)\n",
    "trainloader = torch.utils.data.DataLoader(trainset, batch_size=64, shuffle=True)\n",
    "\n",
    "# Download and load the test data\n",
    "testset = datasets.FashionMNIST('~/.pytorch/F_MNIST_data/', download=True, train=False, transform=transform)\n",
    "testloader = torch.utils.data.DataLoader(testset, batch_size=64, shuffle=True)"
   ]
  },
  {
   "cell_type": "code",
   "execution_count": 36,
   "metadata": {},
   "outputs": [],
   "source": [
    "from torch import nn\n",
    "from torch import optim\n",
    "import torch.nn.functional as F\n",
    "\n",
    "class Network(nn.Module):\n",
    "    def __init__(self):\n",
    "        super().__init__()\n",
    "        \n",
    "        self.hidden1 = nn.Linear(784, 256)\n",
    "        self.hidden2 = nn.Linear(256, 128)\n",
    "        self.hidden3 = nn.Linear(128, 64)\n",
    "        self.outputs = nn.Linear(64, 10)\n",
    "        \n",
    "    def forward(self, x):\n",
    "        x = x.view(x.shape[0], -1) # --> inputs data must be flatten 1x28x18 --> samples x 784\n",
    "        \n",
    "        x = F.relu(self.hidden1(x))\n",
    "        x = F.relu(self.hidden2(x))\n",
    "        x = F.relu(self.hidden3(x))\n",
    "        x = F.log_softmax(self.outputs(x), dim=1)\n",
    "        \n",
    "        return x"
   ]
  },
  {
   "cell_type": "code",
   "execution_count": 37,
   "metadata": {},
   "outputs": [
    {
     "name": "stdout",
     "output_type": "stream",
     "text": [
      "Epoch: 1/30..  Training Loss: 0.512..  Test Loss: 0.437..  Test Accuracy: 0.843\n",
      "Epoch: 2/30..  Training Loss: 0.390..  Test Loss: 0.409..  Test Accuracy: 0.853\n",
      "Epoch: 3/30..  Training Loss: 0.354..  Test Loss: 0.400..  Test Accuracy: 0.856\n",
      "Epoch: 4/30..  Training Loss: 0.332..  Test Loss: 0.391..  Test Accuracy: 0.863\n",
      "Epoch: 5/30..  Training Loss: 0.315..  Test Loss: 0.370..  Test Accuracy: 0.871\n",
      "Epoch: 6/30..  Training Loss: 0.300..  Test Loss: 0.373..  Test Accuracy: 0.874\n",
      "Epoch: 7/30..  Training Loss: 0.291..  Test Loss: 0.389..  Test Accuracy: 0.868\n",
      "Epoch: 8/30..  Training Loss: 0.281..  Test Loss: 0.359..  Test Accuracy: 0.878\n",
      "Epoch: 9/30..  Training Loss: 0.272..  Test Loss: 0.367..  Test Accuracy: 0.876\n",
      "Epoch: 10/30..  Training Loss: 0.264..  Test Loss: 0.374..  Test Accuracy: 0.875\n",
      "Epoch: 11/30..  Training Loss: 0.258..  Test Loss: 0.363..  Test Accuracy: 0.880\n",
      "Epoch: 12/30..  Training Loss: 0.250..  Test Loss: 0.359..  Test Accuracy: 0.879\n",
      "Epoch: 13/30..  Training Loss: 0.243..  Test Loss: 0.398..  Test Accuracy: 0.872\n",
      "Epoch: 14/30..  Training Loss: 0.236..  Test Loss: 0.369..  Test Accuracy: 0.875\n",
      "Epoch: 15/30..  Training Loss: 0.233..  Test Loss: 0.379..  Test Accuracy: 0.875\n",
      "Epoch: 16/30..  Training Loss: 0.232..  Test Loss: 0.388..  Test Accuracy: 0.883\n",
      "Epoch: 17/30..  Training Loss: 0.229..  Test Loss: 0.376..  Test Accuracy: 0.881\n",
      "Epoch: 18/30..  Training Loss: 0.215..  Test Loss: 0.385..  Test Accuracy: 0.883\n",
      "Epoch: 19/30..  Training Loss: 0.218..  Test Loss: 0.386..  Test Accuracy: 0.882\n",
      "Epoch: 20/30..  Training Loss: 0.216..  Test Loss: 0.422..  Test Accuracy: 0.874\n",
      "Epoch: 21/30..  Training Loss: 0.207..  Test Loss: 0.390..  Test Accuracy: 0.885\n",
      "Epoch: 22/30..  Training Loss: 0.214..  Test Loss: 0.387..  Test Accuracy: 0.886\n",
      "Epoch: 23/30..  Training Loss: 0.205..  Test Loss: 0.408..  Test Accuracy: 0.880\n",
      "Epoch: 24/30..  Training Loss: 0.198..  Test Loss: 0.415..  Test Accuracy: 0.880\n",
      "Epoch: 25/30..  Training Loss: 0.196..  Test Loss: 0.425..  Test Accuracy: 0.880\n",
      "Epoch: 26/30..  Training Loss: 0.192..  Test Loss: 0.404..  Test Accuracy: 0.884\n",
      "Epoch: 27/30..  Training Loss: 0.193..  Test Loss: 0.428..  Test Accuracy: 0.883\n",
      "Epoch: 28/30..  Training Loss: 0.188..  Test Loss: 0.390..  Test Accuracy: 0.886\n",
      "Epoch: 29/30..  Training Loss: 0.184..  Test Loss: 0.415..  Test Accuracy: 0.887\n",
      "Epoch: 30/30..  Training Loss: 0.186..  Test Loss: 0.447..  Test Accuracy: 0.884\n"
     ]
    }
   ],
   "source": [
    "model = Network()\n",
    "criterion = nn.NLLLoss() # Negative Log-Likelihood Loss --> L(y) = -log(y)\n",
    "optimizer = optim.Adam(model.parameters(), lr=0.003)\n",
    "\n",
    "epochs = 30\n",
    "steps = 0\n",
    "\n",
    "train_losses, test_losses = [], []\n",
    "for e in range(epochs):\n",
    "    running_loss = 0\n",
    "    for images, labels in trainloader:\n",
    "        \n",
    "        optimizer.zero_grad()   # Clear off the gradient (w = w - gradient)\n",
    "        \n",
    "        log_ps = model(images)  # People use --> outputs = model(inputs)\n",
    "        loss = criterion(log_ps, labels) \n",
    "        loss.backward()                  # Backpropagation \n",
    "        optimizer.step()                 # Update the weights\n",
    "        \n",
    "        running_loss += loss.item()      # Accumulate the loss\n",
    "        \n",
    "    else:\n",
    "        test_loss = 0\n",
    "        accuracy = 0\n",
    "        \n",
    "        # Turn off gradients for validation, saves memory and computations\n",
    "        with torch.no_grad():\n",
    "            for images, labels in testloader:\n",
    "                log_ps = model(images)\n",
    "                test_loss += criterion(log_ps, labels)\n",
    "                \n",
    "                ps = torch.exp(log_ps)\n",
    "                top_p, top_class = ps.topk(1, dim=1)\n",
    "                equals = top_class == labels.view(*top_class.shape)\n",
    "                accuracy += torch.mean(equals.type(torch.FloatTensor))\n",
    "                \n",
    "        train_losses.append(running_loss/len(trainloader))\n",
    "        test_losses.append(test_loss/len(testloader))\n",
    "\n",
    "        print(\"Epoch: {}/{}.. \".format(e+1, epochs),\n",
    "              \"Training Loss: {:.3f}.. \".format(running_loss/len(trainloader)),\n",
    "              \"Test Loss: {:.3f}.. \".format(test_loss/len(testloader)),\n",
    "              \"Test Accuracy: {:.3f}\".format(accuracy/len(testloader)))\n"
   ]
  },
  {
   "cell_type": "code",
   "execution_count": 55,
   "metadata": {},
   "outputs": [
    {
     "data": {
      "text/plain": [
       "<matplotlib.legend.Legend at 0x7f892d240ef0>"
      ]
     },
     "execution_count": 55,
     "metadata": {},
     "output_type": "execute_result"
    },
    {
     "data": {
      "image/png": "[encoded data removed]",
      "text/plain": [
       "<Figure size 432x288 with 1 Axes>"
      ]
     },
     "metadata": {
      "needs_background": "light"
     },
     "output_type": "display_data"
    }
   ],
   "source": [
    "import matplotlib.pyplot as plt\n",
    "%matplotlib inline\n",
    "\n",
    "plt.plot(train_losses, label='Training loss')\n",
    "plt.plot(test_losses, label='Validation loss')\n",
    "plt.xlabel('epoch', fontsize=16)\n",
    "plt.ylabel('error', fontsize=16)\n",
    "plt.legend(frameon=False)"
   ]
  },
  {
   "cell_type": "code",
   "execution_count": 56,
   "metadata": {},
   "outputs": [
    {
     "data": {
      "text/plain": [
       "[0.5124625033184663,\n",
       " 0.3897924520599563,\n",
       " 0.35394485353597444,\n",
       " 0.33155598702715405,\n",
       " 0.3151066795722254,\n",
       " 0.3003400652758729,\n",
       " 0.29116427983397614,\n",
       " 0.2814891630612901,\n",
       " 0.27167195941943095,\n",
       " 0.2637136698658787,\n",
       " 0.2577536178033934,\n",
       " 0.2503469003034807,\n",
       " 0.2429764848718765,\n",
       " 0.23591342765385154,\n",
       " 0.23326661295172121,\n",
       " 0.2315298139310277,\n",
       " 0.22858724355109847,\n",
       " 0.21549444752874405,\n",
       " 0.2182465375446752,\n",
       " 0.21647062019578048,\n",
       " 0.20657068186763253,\n",
       " 0.2143550709819298,\n",
       " 0.20482079293737723,\n",
       " 0.19798424556406577,\n",
       " 0.19614580645362958,\n",
       " 0.19225598450329132,\n",
       " 0.19262359759160705,\n",
       " 0.18817780060030376,\n",
       " 0.18442394350494531,\n",
       " 0.18590815298990018]"
      ]
     },
     "execution_count": 56,
     "metadata": {},
     "output_type": "execute_result"
    }
   ],
   "source": [
    "train_losses"
   ]
  },
  {
   "cell_type": "code",
   "execution_count": null,
   "metadata": {},
   "outputs": [],
   "source": []
  }
 ],
 "metadata": {
  "kernelspec": {
   "display_name": "Python 3",
   "language": "python",
   "name": "python3"
  },
  "language_info": {
   "codemirror_mode": {
    "name": "ipython",
    "version": 3
   },
   "file_extension": ".py",
   "mimetype": "text/x-python",
   "name": "python",
   "nbconvert_exporter": "python",
   "pygments_lexer": "ipython3",
   "version": "3.6.8"
  }
 },
 "nbformat": 4,
 "nbformat_minor": 2
}
