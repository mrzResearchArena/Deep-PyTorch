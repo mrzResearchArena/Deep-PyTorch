{
 "cells": [
  {
   "cell_type": "code",
   "execution_count": 9,
   "metadata": {},
   "outputs": [],
   "source": [
    "import torch\n",
    "import numpy as np\n",
    "torch.manual_seed(7)\n",
    "np.random.seed(7)\n",
    "\n",
    "from torchvision import datasets, transforms\n",
    "\n",
    "# Define a transform to normalize the data\n",
    "transform = transforms.Compose([transforms.ToTensor(),\n",
    "                                transforms.Normalize((0.5,), (0.5,))])\n",
    "# Download and load the training data\n",
    "trainset = datasets.FashionMNIST('~/.pytorch/F_MNIST_data/', download=True, train=True, transform=transform)\n",
    "trainloader = torch.utils.data.DataLoader(trainset, batch_size=64, shuffle=True)\n",
    "\n",
    "# Download and load the test data\n",
    "testset = datasets.FashionMNIST('~/.pytorch/F_MNIST_data/', download=True, train=False, transform=transform)\n",
    "testloader = torch.utils.data.DataLoader(testset, batch_size=64, shuffle=True)"
   ]
  },
  {
   "cell_type": "code",
   "execution_count": 10,
   "metadata": {},
   "outputs": [],
   "source": [
    "from torch import nn\n",
    "from torch import optim\n",
    "import torch.nn.functional as F\n",
    "\n",
    "class Network(nn.Module):\n",
    "    def __init__(self):\n",
    "        super().__init__()\n",
    "        \n",
    "        # Connection (with Layer)\n",
    "        self.hidden1 = nn.Linear(in_features=784, out_features=256)\n",
    "        self.hidden2 = nn.Linear(in_features=256, out_features=128)\n",
    "        self.hidden3 = nn.Linear(in_features=128, out_features=64)\n",
    "        self.output  = nn.Linear(in_features=64, out_features=10)\n",
    "        \n",
    "        # Comming Soon!\n",
    "        self.dropout = nn.Dropout(p=0.2)\n",
    "        \n",
    "    def forward(self, x):\n",
    "        # Set inputs shape: samples (batch_size) x features\n",
    "        x = x.view(x.shape[0], -1) # --> inputs data must be flatten 1x28x18 --> samples x 784\n",
    "        \n",
    "        # Activation for each connection\n",
    "        x = self.dropout(F.relu(self.hidden1(x)))\n",
    "        x = self.dropout(F.relu(self.hidden2(x)))\n",
    "        x = self.dropout(F.relu(self.hidden3(x)))\n",
    "        x = F.log_softmax(self.output(x), dim=1)\n",
    "        \n",
    "        return x"
   ]
  },
  {
   "cell_type": "code",
   "execution_count": 11,
   "metadata": {},
   "outputs": [
    {
     "name": "stdout",
     "output_type": "stream",
     "text": [
      "Network(\n",
      "  (hidden1): Linear(in_features=784, out_features=256, bias=True)\n",
      "  (hidden2): Linear(in_features=256, out_features=128, bias=True)\n",
      "  (hidden3): Linear(in_features=128, out_features=64, bias=True)\n",
      "  (output): Linear(in_features=64, out_features=10, bias=True)\n",
      "  (dropout): Dropout(p=0.2)\n",
      ")\n",
      "odict_keys(['hidden1.weight', 'hidden1.bias', 'hidden2.weight', 'hidden2.bias', 'hidden3.weight', 'hidden3.bias', 'output.weight', 'output.bias'])\n"
     ]
    }
   ],
   "source": [
    "### Check\n",
    "model = Network()\n",
    "\n",
    "# images, labels = next(iter(testloader))\n",
    "\n",
    "#1. Get the class probabilities\n",
    "# ps = torch.exp(model(images))\n",
    "# print(ps.shape)            # 64x10\n",
    "\n",
    "# top_p, top_class = ps.topk(10, dim=1)\n",
    "# print(top_p.shape)         # 64x1\n",
    "# print(top_class.shape)     # 64x1\n",
    "# accuracy = top_class == labels.view(-1, 1)\n",
    "# accuracy = accuracy.numpy()\n",
    "# print(np.mean(accuracy)*100.0)\n",
    "# print(top_p, top_class)\n",
    "# print(top_p)\n",
    "print(model)\n",
    "print(model.state_dict().keys())"
   ]
  },
  {
   "cell_type": "code",
   "execution_count": 12,
   "metadata": {},
   "outputs": [
    {
     "name": "stdout",
     "output_type": "stream",
     "text": [
      "Epoch: 1/10...  Training Loss: 0.604...  Test Loss: 0.478...  Test Accuracy: 0.830\n",
      "Epoch: 2/10...  Training Loss: 0.478...  Test Loss: 0.418...  Test Accuracy: 0.849\n",
      "Epoch: 3/10...  Training Loss: 0.446...  Test Loss: 0.408...  Test Accuracy: 0.853\n",
      "Epoch: 4/10...  Training Loss: 0.426...  Test Loss: 0.399...  Test Accuracy: 0.853\n",
      "Epoch: 5/10...  Training Loss: 0.416...  Test Loss: 0.403...  Test Accuracy: 0.859\n",
      "Epoch: 6/10...  Training Loss: 0.414...  Test Loss: 0.399...  Test Accuracy: 0.861\n",
      "Epoch: 7/10...  Training Loss: 0.408...  Test Loss: 0.385...  Test Accuracy: 0.868\n",
      "Epoch: 8/10...  Training Loss: 0.396...  Test Loss: 0.387...  Test Accuracy: 0.863\n",
      "Epoch: 9/10...  Training Loss: 0.387...  Test Loss: 0.386...  Test Accuracy: 0.866\n",
      "Epoch: 10/10...  Training Loss: 0.387...  Test Loss: 0.387...  Test Accuracy: 0.863\n"
     ]
    }
   ],
   "source": [
    "model = Network()\n",
    "criterion = nn.NLLLoss() # Negative Log-Likelihood Loss --> L(y) = -log(y)\n",
    "optimizer = optim.Adam(model.parameters(), lr=0.003)\n",
    "\n",
    "epochs = 10 # Set 100\n",
    "steps = 0\n",
    "\n",
    "train_losses, test_losses = [], []\n",
    "\n",
    "for epoch in range(epochs):\n",
    "    running_loss = 0\n",
    "    for images, labels in trainloader:\n",
    "        \n",
    "        optimizer.zero_grad()   # Clear off the gradient (w = w - gradient)\n",
    "        \n",
    "        log_ps = model(images)  # log class probabilities [People use --> outputs = model(inputs)]\n",
    "        loss = criterion(log_ps, labels) \n",
    "        loss.backward()                  # Backpropagation \n",
    "        optimizer.step()                 # Update the weights\n",
    "        \n",
    "        running_loss += loss.item()      # Accumulate the loss\n",
    "    \n",
    "    ### ------ ###\n",
    "    \n",
    "    test_loss = 0\n",
    "    accuracy = 0\n",
    "\n",
    "    with torch.no_grad(): # Turn off gradients for validation, saves memory and computations\n",
    "        \n",
    "        model.eval() # Set model to evaluation mode\n",
    "        ### ------ ###\n",
    "        \n",
    "        for images, labels in testloader:\n",
    "            \n",
    "            log_ps = model(images)\n",
    "            test_loss += criterion(log_ps, labels)\n",
    "\n",
    "            ps = torch.exp(log_ps)\n",
    "            top_p, top_class = ps.topk(1, dim=1)\n",
    "            \n",
    "            equals = ( top_class == labels.view(top_class.shape) )\n",
    "            \n",
    "            accuracy += np.mean(equals.numpy())\n",
    "\n",
    "    model.train() # Set model back to train mode\n",
    "    ### ------ ###\n",
    "    \n",
    "    train_losses.append(running_loss/len(trainloader))\n",
    "    test_losses.append(test_loss/len(testloader))\n",
    "\n",
    "    print(\"Epoch: {}/{}... \".format(epoch+1, epochs),\n",
    "          \"Training Loss: {:.3f}... \".format(running_loss/len(trainloader)),\n",
    "          \"Test Loss: {:.3f}... \".format(test_loss/len(testloader)),\n",
    "          \"Test Accuracy: {:.3f}\".format(accuracy/len(testloader)))\n"
   ]
  },
  {
   "cell_type": "code",
   "execution_count": 13,
   "metadata": {},
   "outputs": [
    {
     "data": {
      "text/plain": [
       "<matplotlib.legend.Legend at 0x7f254f814400>"
      ]
     },
     "execution_count": 13,
     "metadata": {},
     "output_type": "execute_result"
    },
    {
     "data": {
      "image/png": "[encoded data removed]",
      "text/plain": [
       "<Figure size 432x288 with 1 Axes>"
      ]
     },
     "metadata": {
      "needs_background": "light"
     },
     "output_type": "display_data"
    }
   ],
   "source": [
    "import matplotlib.pyplot as plt\n",
    "%matplotlib inline\n",
    "\n",
    "plt.plot(train_losses, label='Training loss')\n",
    "plt.plot(test_losses, label='Validation loss')\n",
    "plt.xlabel('epoch', fontsize=16)\n",
    "plt.ylabel('error', fontsize=16)\n",
    "plt.legend(frameon=False)"
   ]
  },
  {
   "cell_type": "code",
   "execution_count": 14,
   "metadata": {},
   "outputs": [
    {
     "name": "stdout",
     "output_type": "stream",
     "text": [
      "tensor([[ 1.7622e-08,  1.8002e-18,  4.1250e-10,  1.4546e-14,  2.5364e-09,\n",
      "          2.0116e-10,  1.5361e-06,  3.4959e-15,  1.0000e+00,  3.6165e-16]])\n"
     ]
    }
   ],
   "source": [
    "# Import helper module (should be in the repo)\n",
    "import helper\n",
    "\n",
    "# Test out your network!\n",
    "\n",
    "model.eval()\n",
    "\n",
    "dataiter = iter(testloader)\n",
    "images, labels = dataiter.next()\n",
    "img = images[0]\n",
    "# Convert 2D image to 1D vector\n",
    "img = img.view(1, 784)\n",
    "\n",
    "# Calculate the class probabilities (softmax) for img\n",
    "with torch.no_grad():\n",
    "    output = model.forward(img)\n",
    "\n",
    "    ps = torch.exp(output)\n",
    "    \n",
    "    print(ps)\n",
    "# Plot the image and probabilities\n",
    "# helper.view_classify(img.view(1, 28, 28), ps, version='Fashion')\n",
    "\n"
   ]
  },
  {
   "cell_type": "code",
   "execution_count": null,
   "metadata": {},
   "outputs": [],
   "source": []
  }
 ],
 "metadata": {
  "kernelspec": {
   "display_name": "Python 3",
   "language": "python",
   "name": "python3"
  },
  "language_info": {
   "codemirror_mode": {
    "name": "ipython",
    "version": 3
   },
   "file_extension": ".py",
   "mimetype": "text/x-python",
   "name": "python",
   "nbconvert_exporter": "python",
   "pygments_lexer": "ipython3",
   "version": "3.6.8"
  }
 },
 "nbformat": 4,
 "nbformat_minor": 2
}
